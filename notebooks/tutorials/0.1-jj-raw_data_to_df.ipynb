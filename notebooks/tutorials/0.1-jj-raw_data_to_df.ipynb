{
 "cells": [
  {
   "cell_type": "markdown",
   "metadata": {},
   "source": [
    "# Convert raw corpus to a pandas dataframe\n",
    "\n",
    "This notebook is a simple example of how to convert a raw corpus (a corpus represented as a directory of files) to a pandas dataframe. The corpus is represented sentence by sentence in the dataframe."
   ]
  },
  {
   "cell_type": "code",
   "execution_count": 1,
   "metadata": {},
   "outputs": [],
   "source": [
    "%load_ext autoreload\n",
    "%autoreload 2\n",
    "\n",
    "from src.data.make_dataset import convert_raw_corpus_to_df, combine_phrases_in_corpus\n",
    "\n",
    "import matplotlib.pyplot as plt"
   ]
  },
  {
   "cell_type": "markdown",
   "metadata": {},
   "source": [
    "First convert the corpus into a dataframe and do some initial pre-processing"
   ]
  },
  {
   "cell_type": "code",
   "execution_count": 2,
   "metadata": {},
   "outputs": [
    {
     "name": "stdout",
     "output_type": "stream",
     "text": [
      "CPU times: user 19 s, sys: 2.67 s, total: 21.7 s\n",
      "Wall time: 22.4 s\n"
     ]
    }
   ],
   "source": [
    "%time df = convert_raw_corpus_to_df(\"../../data/raw/Zapatismo_sm\", clean = True)"
   ]
  },
  {
   "cell_type": "code",
   "execution_count": 3,
   "metadata": {},
   "outputs": [
    {
     "data": {
      "text/html": [
       "<div>\n",
       "<style scoped>\n",
       "    .dataframe tbody tr th:only-of-type {\n",
       "        vertical-align: middle;\n",
       "    }\n",
       "\n",
       "    .dataframe tbody tr th {\n",
       "        vertical-align: top;\n",
       "    }\n",
       "\n",
       "    .dataframe thead th {\n",
       "        text-align: right;\n",
       "    }\n",
       "</style>\n",
       "<table border=\"1\" class=\"dataframe\">\n",
       "  <thead>\n",
       "    <tr style=\"text-align: right;\">\n",
       "      <th></th>\n",
       "      <th>date</th>\n",
       "      <th>document_index</th>\n",
       "      <th>sentence_index</th>\n",
       "      <th>raw_sentence</th>\n",
       "      <th>cleaned_sentence</th>\n",
       "    </tr>\n",
       "  </thead>\n",
       "  <tbody>\n",
       "    <tr>\n",
       "      <th>0</th>\n",
       "      <td>1994-02-26</td>\n",
       "      <td>0</td>\n",
       "      <td>0</td>\n",
       "      <td>Comunicado conjunto de las Jornadas de Diálogo...</td>\n",
       "      <td>comunicado conjuntar jornadas diálogo 26 febre...</td>\n",
       "    </tr>\n",
       "    <tr>\n",
       "      <th>1</th>\n",
       "      <td>1994-02-26</td>\n",
       "      <td>0</td>\n",
       "      <td>1</td>\n",
       "      <td>No podemos soslayar la interpretación de que e...</td>\n",
       "      <td>soslayar interpretación momento crítico acuerdo</td>\n",
       "    </tr>\n",
       "    <tr>\n",
       "      <th>2</th>\n",
       "      <td>1994-02-26</td>\n",
       "      <td>0</td>\n",
       "      <td>2</td>\n",
       "      <td>Lo cual quiere decir que nos movemos en un esp...</td>\n",
       "      <td>mover espíritu responsabilidad</td>\n",
       "    </tr>\n",
       "    <tr>\n",
       "      <th>3</th>\n",
       "      <td>1994-02-26</td>\n",
       "      <td>0</td>\n",
       "      <td>3</td>\n",
       "      <td>Somos conscientes de que codo lo que aquí se a...</td>\n",
       "      <td>consciente codo acordar mesa diálogo verificar...</td>\n",
       "    </tr>\n",
       "    <tr>\n",
       "      <th>4</th>\n",
       "      <td>1994-02-26</td>\n",
       "      <td>0</td>\n",
       "      <td>4</td>\n",
       "      <td>Consideramos que el esfuerzo común, la serieda...</td>\n",
       "      <td>consideramos esforzar común seriedad intercamb...</td>\n",
       "    </tr>\n",
       "  </tbody>\n",
       "</table>\n",
       "</div>"
      ],
      "text/plain": [
       "        date  document_index  sentence_index  \\\n",
       "0 1994-02-26               0               0   \n",
       "1 1994-02-26               0               1   \n",
       "2 1994-02-26               0               2   \n",
       "3 1994-02-26               0               3   \n",
       "4 1994-02-26               0               4   \n",
       "\n",
       "                                        raw_sentence  \\\n",
       "0  Comunicado conjunto de las Jornadas de Diálogo...   \n",
       "1  No podemos soslayar la interpretación de que e...   \n",
       "2  Lo cual quiere decir que nos movemos en un esp...   \n",
       "3  Somos conscientes de que codo lo que aquí se a...   \n",
       "4  Consideramos que el esfuerzo común, la serieda...   \n",
       "\n",
       "                                    cleaned_sentence  \n",
       "0  comunicado conjuntar jornadas diálogo 26 febre...  \n",
       "1    soslayar interpretación momento crítico acuerdo  \n",
       "2                     mover espíritu responsabilidad  \n",
       "3  consciente codo acordar mesa diálogo verificar...  \n",
       "4  consideramos esforzar común seriedad intercamb...  "
      ]
     },
     "execution_count": 3,
     "metadata": {},
     "output_type": "execute_result"
    }
   ],
   "source": [
    "df.head()"
   ]
  },
  {
   "cell_type": "code",
   "execution_count": 4,
   "metadata": {},
   "outputs": [
    {
     "data": {
      "text/html": [
       "<div>\n",
       "<style scoped>\n",
       "    .dataframe tbody tr th:only-of-type {\n",
       "        vertical-align: middle;\n",
       "    }\n",
       "\n",
       "    .dataframe tbody tr th {\n",
       "        vertical-align: top;\n",
       "    }\n",
       "\n",
       "    .dataframe thead th {\n",
       "        text-align: right;\n",
       "    }\n",
       "</style>\n",
       "<table border=\"1\" class=\"dataframe\">\n",
       "  <thead>\n",
       "    <tr style=\"text-align: right;\">\n",
       "      <th></th>\n",
       "      <th>date</th>\n",
       "      <th>document_index</th>\n",
       "      <th>sentence_index</th>\n",
       "      <th>raw_sentence</th>\n",
       "      <th>cleaned_sentence</th>\n",
       "    </tr>\n",
       "  </thead>\n",
       "  <tbody>\n",
       "    <tr>\n",
       "      <th>34</th>\n",
       "      <td>1994-02-08</td>\n",
       "      <td>2</td>\n",
       "      <td>0</td>\n",
       "      <td>Al Frente Cívico de Mapastepec: el gobierno co...</td>\n",
       "      <td>frente cívico mapastepec gobernar colectivo go...</td>\n",
       "    </tr>\n",
       "    <tr>\n",
       "      <th>35</th>\n",
       "      <td>1994-02-08</td>\n",
       "      <td>2</td>\n",
       "      <td>1</td>\n",
       "      <td>Recibimos su carta de fecha 6 de febrero de 1994.</td>\n",
       "      <td>recibimos carta fecho 6 febrero 1994</td>\n",
       "    </tr>\n",
       "    <tr>\n",
       "      <th>36</th>\n",
       "      <td>1994-02-08</td>\n",
       "      <td>2</td>\n",
       "      <td>2</td>\n",
       "      <td>La inmensa mayoría de los presidentes de los m...</td>\n",
       "      <td>inmenso mayoría presidente municipio chiapanec...</td>\n",
       "    </tr>\n",
       "    <tr>\n",
       "      <th>37</th>\n",
       "      <td>1994-02-08</td>\n",
       "      <td>2</td>\n",
       "      <td>3</td>\n",
       "      <td>Todos los presidentes municipales del estado d...</td>\n",
       "      <td>presidente municipal chiapas renunciar o deponer</td>\n",
       "    </tr>\n",
       "    <tr>\n",
       "      <th>38</th>\n",
       "      <td>1994-02-08</td>\n",
       "      <td>2</td>\n",
       "      <td>4</td>\n",
       "      <td>En su lugar deberían formarse concejos municip...</td>\n",
       "      <td>deber formarse concejo municipal elegir democr...</td>\n",
       "    </tr>\n",
       "  </tbody>\n",
       "</table>\n",
       "</div>"
      ],
      "text/plain": [
       "         date  document_index  sentence_index  \\\n",
       "34 1994-02-08               2               0   \n",
       "35 1994-02-08               2               1   \n",
       "36 1994-02-08               2               2   \n",
       "37 1994-02-08               2               3   \n",
       "38 1994-02-08               2               4   \n",
       "\n",
       "                                         raw_sentence  \\\n",
       "34  Al Frente Cívico de Mapastepec: el gobierno co...   \n",
       "35  Recibimos su carta de fecha 6 de febrero de 1994.   \n",
       "36  La inmensa mayoría de los presidentes de los m...   \n",
       "37  Todos los presidentes municipales del estado d...   \n",
       "38  En su lugar deberían formarse concejos municip...   \n",
       "\n",
       "                                     cleaned_sentence  \n",
       "34  frente cívico mapastepec gobernar colectivo go...  \n",
       "35               recibimos carta fecho 6 febrero 1994  \n",
       "36  inmenso mayoría presidente municipio chiapanec...  \n",
       "37   presidente municipal chiapas renunciar o deponer  \n",
       "38  deber formarse concejo municipal elegir democr...  "
      ]
     },
     "execution_count": 4,
     "metadata": {},
     "output_type": "execute_result"
    }
   ],
   "source": [
    "df[df.document_index == 2].head()"
   ]
  },
  {
   "cell_type": "code",
   "execution_count": 5,
   "metadata": {},
   "outputs": [
    {
     "data": {
      "text/html": [
       "<div>\n",
       "<style scoped>\n",
       "    .dataframe tbody tr th:only-of-type {\n",
       "        vertical-align: middle;\n",
       "    }\n",
       "\n",
       "    .dataframe tbody tr th {\n",
       "        vertical-align: top;\n",
       "    }\n",
       "\n",
       "    .dataframe thead th {\n",
       "        text-align: right;\n",
       "    }\n",
       "</style>\n",
       "<table border=\"1\" class=\"dataframe\">\n",
       "  <thead>\n",
       "    <tr style=\"text-align: right;\">\n",
       "      <th></th>\n",
       "      <th>date</th>\n",
       "      <th>document_index</th>\n",
       "      <th>sentence_index</th>\n",
       "      <th>raw_sentence</th>\n",
       "      <th>cleaned_sentence</th>\n",
       "    </tr>\n",
       "  </thead>\n",
       "  <tbody>\n",
       "    <tr>\n",
       "      <th>0</th>\n",
       "      <td>1994-02-26</td>\n",
       "      <td>0</td>\n",
       "      <td>0</td>\n",
       "      <td>Comunicado conjunto de las Jornadas de Diálogo...</td>\n",
       "      <td>comunicado conjuntar jornadas diálogo 26 febre...</td>\n",
       "    </tr>\n",
       "    <tr>\n",
       "      <th>9</th>\n",
       "      <td>1994-01-20</td>\n",
       "      <td>1</td>\n",
       "      <td>0</td>\n",
       "      <td>Conclusiones del juicio popular seguido en con...</td>\n",
       "      <td>conclusiones juicio popular seguir prisionero ...</td>\n",
       "    </tr>\n",
       "    <tr>\n",
       "      <th>34</th>\n",
       "      <td>1994-02-08</td>\n",
       "      <td>2</td>\n",
       "      <td>0</td>\n",
       "      <td>Al Frente Cívico de Mapastepec: el gobierno co...</td>\n",
       "      <td>frente cívico mapastepec gobernar colectivo go...</td>\n",
       "    </tr>\n",
       "    <tr>\n",
       "      <th>46</th>\n",
       "      <td>1994-03-19</td>\n",
       "      <td>3</td>\n",
       "      <td>0</td>\n",
       "      <td>A las organizaciones indígenas y campesinas: a...</td>\n",
       "      <td>a organización indígena y campesino alzar arma...</td>\n",
       "    </tr>\n",
       "    <tr>\n",
       "      <th>63</th>\n",
       "      <td>1994-01-20</td>\n",
       "      <td>4</td>\n",
       "      <td>0</td>\n",
       "      <td>Sobre las demandas centrales y las formas de l...</td>\n",
       "      <td>demandar central y formar luchar demandas cent...</td>\n",
       "    </tr>\n",
       "  </tbody>\n",
       "</table>\n",
       "</div>"
      ],
      "text/plain": [
       "         date  document_index  sentence_index  \\\n",
       "0  1994-02-26               0               0   \n",
       "9  1994-01-20               1               0   \n",
       "34 1994-02-08               2               0   \n",
       "46 1994-03-19               3               0   \n",
       "63 1994-01-20               4               0   \n",
       "\n",
       "                                         raw_sentence  \\\n",
       "0   Comunicado conjunto de las Jornadas de Diálogo...   \n",
       "9   Conclusiones del juicio popular seguido en con...   \n",
       "34  Al Frente Cívico de Mapastepec: el gobierno co...   \n",
       "46  A las organizaciones indígenas y campesinas: a...   \n",
       "63  Sobre las demandas centrales y las formas de l...   \n",
       "\n",
       "                                     cleaned_sentence  \n",
       "0   comunicado conjuntar jornadas diálogo 26 febre...  \n",
       "9   conclusiones juicio popular seguir prisionero ...  \n",
       "34  frente cívico mapastepec gobernar colectivo go...  \n",
       "46  a organización indígena y campesino alzar arma...  \n",
       "63  demandar central y formar luchar demandas cent...  "
      ]
     },
     "execution_count": 5,
     "metadata": {},
     "output_type": "execute_result"
    }
   ],
   "source": [
    "df[df.sentence_index == 0].head()"
   ]
  },
  {
   "cell_type": "code",
   "execution_count": 6,
   "metadata": {},
   "outputs": [],
   "source": [
    "df.to_csv(\"../../data/processed/Zapatismo_sm.csv\")"
   ]
  },
  {
   "cell_type": "code",
   "execution_count": 7,
   "metadata": {},
   "outputs": [
    {
     "data": {
      "text/plain": [
       "[<matplotlib.lines.Line2D at 0x11f48bb50>]"
      ]
     },
     "execution_count": 7,
     "metadata": {},
     "output_type": "execute_result"
    },
    {
     "data": {
      "image/png": "[encoded data removed]",
      "text/plain": [
       "<Figure size 432x288 with 1 Axes>"
      ]
     },
     "metadata": {
      "needs_background": "light"
     },
     "output_type": "display_data"
    }
   ],
   "source": [
    "plt.plot([len(df[df.cleaned_sentence.str.len() < n])/len(df) for n in range(df.cleaned_sentence.str.len().max())])"
   ]
  },
  {
   "cell_type": "markdown",
   "metadata": {},
   "source": [
    "Next, obtain the sentences with common phrases combined into a single token"
   ]
  },
  {
   "cell_type": "code",
   "execution_count": 8,
   "metadata": {
    "scrolled": true
   },
   "outputs": [
    {
     "data": {
      "text/html": [
       "<div>\n",
       "<style scoped>\n",
       "    .dataframe tbody tr th:only-of-type {\n",
       "        vertical-align: middle;\n",
       "    }\n",
       "\n",
       "    .dataframe tbody tr th {\n",
       "        vertical-align: top;\n",
       "    }\n",
       "\n",
       "    .dataframe thead th {\n",
       "        text-align: right;\n",
       "    }\n",
       "</style>\n",
       "<table border=\"1\" class=\"dataframe\">\n",
       "  <thead>\n",
       "    <tr style=\"text-align: right;\">\n",
       "      <th></th>\n",
       "      <th>raw_sentence</th>\n",
       "      <th>cleaned_sentence_with_phrases</th>\n",
       "    </tr>\n",
       "  </thead>\n",
       "  <tbody>\n",
       "    <tr>\n",
       "      <th>7614</th>\n",
       "      <td>Permitidnos antes, topos lejanos, como saludo ...</td>\n",
       "      <td>permitidnos topo lejano saludar postrero envia...</td>\n",
       "    </tr>\n",
       "    <tr>\n",
       "      <th>7615</th>\n",
       "      <td>Un pedacito de luna…/ Pero en realidad no es u...</td>\n",
       "      <td>pedacito luna realidad uno/ pedacitos:/ pedaci...</td>\n",
       "    </tr>\n",
       "    <tr>\n",
       "      <th>7616</th>\n",
       "      <td>Igual nosotros,/ si nos toca ser el lado oscur...</td>\n",
       "      <td>nosotros,/ tocar oscuro luna/ menos,/ dispuest...</td>\n",
       "    </tr>\n",
       "    <tr>\n",
       "      <th>7617</th>\n",
       "      <td>Y así es que/ son pocos los que están dispuest...</td>\n",
       "      <td>y que/ dispuestos/ a sufrir sufran/ y a morir/...</td>\n",
       "    </tr>\n",
       "    <tr>\n",
       "      <th>7618</th>\n",
       "      <td>Vale, topos de siempre, os veremos de nuevo ba...</td>\n",
       "      <td>vale topo ver tierra subcomandante_marcos</td>\n",
       "    </tr>\n",
       "  </tbody>\n",
       "</table>\n",
       "</div>"
      ],
      "text/plain": [
       "                                           raw_sentence  \\\n",
       "7614  Permitidnos antes, topos lejanos, como saludo ...   \n",
       "7615  Un pedacito de luna…/ Pero en realidad no es u...   \n",
       "7616  Igual nosotros,/ si nos toca ser el lado oscur...   \n",
       "7617  Y así es que/ son pocos los que están dispuest...   \n",
       "7618  Vale, topos de siempre, os veremos de nuevo ba...   \n",
       "\n",
       "                          cleaned_sentence_with_phrases  \n",
       "7614  permitidnos topo lejano saludar postrero envia...  \n",
       "7615  pedacito luna realidad uno/ pedacitos:/ pedaci...  \n",
       "7616  nosotros,/ tocar oscuro luna/ menos,/ dispuest...  \n",
       "7617  y que/ dispuestos/ a sufrir sufran/ y a morir/...  \n",
       "7618          vale topo ver tierra subcomandante_marcos  "
      ]
     },
     "execution_count": 8,
     "metadata": {},
     "output_type": "execute_result"
    }
   ],
   "source": [
    "combine_phrases_in_corpus(df, 'cleaned_sentence', min_count=50)\n",
    "df[['raw_sentence', 'cleaned_sentence_with_phrases']].tail()"
   ]
  },
  {
   "cell_type": "code",
   "execution_count": null,
   "metadata": {},
   "outputs": [],
   "source": []
  }
 ],
 "metadata": {
  "kernelspec": {
   "display_name": "Python 3",
   "language": "python",
   "name": "python3"
  },
  "language_info": {
   "codemirror_mode": {
    "name": "ipython",
    "version": 3
   },
   "file_extension": ".py",
   "mimetype": "text/x-python",
   "name": "python",
   "nbconvert_exporter": "python",
   "pygments_lexer": "ipython3",
   "version": "3.9.0"
  }
 },
 "nbformat": 4,
 "nbformat_minor": 4
}
